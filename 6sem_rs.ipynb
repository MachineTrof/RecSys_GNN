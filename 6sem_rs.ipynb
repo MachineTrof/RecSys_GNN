{
  "nbformat": 4,
  "nbformat_minor": 0,
  "metadata": {
    "colab": {
      "provenance": [],
      "collapsed_sections": [
        "KxF5ea3enKdU",
        "tecKzUOhnF8R",
        "Rbxd7Qi1nGVA"
      ]
    },
    "kernelspec": {
      "name": "python3",
      "display_name": "Python 3"
    },
    "language_info": {
      "name": "python"
    }
  },
  "cells": [
    {
      "cell_type": "markdown",
      "source": [
        "**Реализация рекомендательной системы на основе GNN (Graph Neural Network)**\n",
        "\n",
        "**Цель:** научиться создавать рекомендательную систему на основе\n",
        "графовых нейронных сетей (GNN), таких как легковесная графовая нейронная\n",
        "сеть LightGCN, IRGNN (Item Relationship Graph Neural Network), применяя\n",
        "методологию анализа графа взаимодействий пользователей и товаров/услуг,\n",
        "научиться применять её для прогнозирования предпочтений пользователей,\n",
        "оценить качество полученной модели на реальных данных."
      ],
      "metadata": {
        "id": "7RTQsUlVnBM6"
      }
    },
    {
      "cell_type": "code",
      "source": [
        "!pip install torch_geometric >> None"
      ],
      "metadata": {
        "id": "wKPNV84n6E8f"
      },
      "execution_count": 1,
      "outputs": []
    },
    {
      "cell_type": "markdown",
      "source": [
        "# 1 часть – общий пример (1 балл)"
      ],
      "metadata": {
        "id": "KxF5ea3enKdU"
      }
    },
    {
      "cell_type": "code",
      "source": [
        "import pandas as pd\n",
        "from torch_geometric.data import Data\n",
        "import torch\n",
        "from sklearn.preprocessing import MinMaxScaler\n",
        "from sklearn.model_selection import train_test_split\n",
        "import torch.nn.functional as F\n",
        "from torch_geometric.nn import GCNConv\n",
        "from tqdm import tqdm\n",
        "import matplotlib.pyplot as plt"
      ],
      "metadata": {
        "id": "XTtBvyK_6Nxh"
      },
      "execution_count": 1,
      "outputs": []
    },
    {
      "cell_type": "code",
      "source": [
        "ratings = pd.read_csv('ratings.csv')\n",
        "\n",
        "users = ratings['userId'].unique()\n",
        "items = ratings['movieId'].unique()\n",
        "\n",
        "n_nodes = len(users) + len(items)\n",
        "\n",
        "user_map = {u: i for i, u in enumerate(users)}\n",
        "item_map = {m: len(users) + i for i, m in enumerate(items)}"
      ],
      "metadata": {
        "id": "LsH5_aiwnFwC"
      },
      "execution_count": 2,
      "outputs": []
    },
    {
      "cell_type": "code",
      "source": [
        "edges = ratings[['userId', 'movieId']].values\n",
        "edge_index = torch.tensor([\n",
        "    [user_map[u] for u, m in edges],\n",
        "    [item_map[m] for u, m in edges]\n",
        "], dtype=torch.long)\n",
        "\n",
        "edge_label = torch.tensor(ratings['rating'].values, dtype=torch.float)\n",
        "\n",
        "x = torch.eye(n_nodes)\n",
        "\n",
        "scaler = MinMaxScaler((0, 1))\n",
        "labels = torch.tensor(scaler.fit_transform(edge_label.unsqueeze(1)).squeeze(),\n",
        "                      dtype=torch.float)"
      ],
      "metadata": {
        "id": "6ptcY7Zl-a2v"
      },
      "execution_count": 3,
      "outputs": []
    },
    {
      "cell_type": "code",
      "source": [
        "edge_indices = torch.arange(edge_index.shape[1])\n",
        "train_idx, test_idx = train_test_split(edge_indices, test_size=0.2, random_state=42)\n",
        "\n",
        "train_mask = torch.zeros(edge_index.shape[1], dtype=torch.bool)\n",
        "test_mask = torch.zeros(edge_index.shape[1], dtype=torch.bool)\n",
        "train_mask[train_idx] = True\n",
        "test_mask[test_idx] = True"
      ],
      "metadata": {
        "id": "INu0UiSy_af6"
      },
      "execution_count": 4,
      "outputs": []
    },
    {
      "cell_type": "code",
      "source": [
        "data = Data(x=x, edge_index=edge_index, y=labels,\n",
        "            train_mask=train_mask, test_mask=test_mask)\n",
        "data"
      ],
      "metadata": {
        "id": "VUS8dwwA_aeG",
        "colab": {
          "base_uri": "https://localhost:8080/"
        },
        "outputId": "4d7ba0c5-1eed-49d3-9352-e133816bf17f"
      },
      "execution_count": 5,
      "outputs": [
        {
          "output_type": "execute_result",
          "data": {
            "text/plain": [
              "Data(x=[10334, 10334], edge_index=[2, 100836], y=[100836], train_mask=[100836], test_mask=[100836])"
            ]
          },
          "metadata": {},
          "execution_count": 5
        }
      ]
    },
    {
      "cell_type": "code",
      "source": [
        "class RecommenderModel(torch.nn.Module):\n",
        "    def __init__(self, num_features, hidden_channels, num_layers=2):\n",
        "        super().__init__()\n",
        "        self.convs = torch.nn.ModuleList()\n",
        "\n",
        "        if num_layers == 1:\n",
        "            self.convs.append(GCNConv(num_features, 1))\n",
        "        else:\n",
        "            self.convs.append(GCNConv(num_features, hidden_channels))\n",
        "            for _ in range(num_layers - 2):\n",
        "                self.convs.append(GCNConv(hidden_channels, hidden_channels))\n",
        "            self.convs.append(GCNConv(hidden_channels, 1))\n",
        "\n",
        "    def forward(self, x, edge_index, edge_pairs):\n",
        "        for i, conv in enumerate(self.convs):\n",
        "            x = conv(x, edge_index)\n",
        "            if i != len(self.convs) - 1:\n",
        "                x = F.relu(x)\n",
        "\n",
        "        source_emb = x[edge_pairs[0]]\n",
        "        target_emb = x[edge_pairs[1]]\n",
        "        scores = (source_emb * target_emb).sum(dim=1)\n",
        "        return scores"
      ],
      "metadata": {
        "id": "ujbO_WhGb7so"
      },
      "execution_count": 6,
      "outputs": []
    },
    {
      "cell_type": "code",
      "source": [
        "model = RecommenderModel(num_features=n_nodes, hidden_channels=16)\n",
        "optimizer = torch.optim.Adam(model.parameters(), lr=0.01)\n",
        "criterion = torch.nn.MSELoss()\n",
        "\n",
        "def train():\n",
        "    model.train()\n",
        "    optimizer.zero_grad()\n",
        "    out = model(data.x, data.edge_index, data.edge_index)[data.train_mask]\n",
        "    loss = criterion(out, data.y[data.train_mask])\n",
        "    loss.backward()\n",
        "    optimizer.step()\n",
        "    return float(loss)\n",
        "\n",
        "losses = []\n",
        "for epoch in tqdm(range(100)):\n",
        "    losses.append(train())\n",
        "\n",
        "plt.title('MSELoss')\n",
        "plt.plot(losses)\n",
        "plt.grid(True)\n",
        "plt.show()"
      ],
      "metadata": {
        "colab": {
          "base_uri": "https://localhost:8080/",
          "height": 469
        },
        "id": "3doDmZKhb7qx",
        "outputId": "3cdea529-2bd0-486c-e4ce-401d9651d5a7"
      },
      "execution_count": 7,
      "outputs": [
        {
          "output_type": "stream",
          "name": "stderr",
          "text": [
            "100%|██████████| 100/100 [00:40<00:00,  2.48it/s]\n"
          ]
        },
        {
          "output_type": "display_data",
          "data": {
            "text/plain": [
              "<Figure size 640x480 with 1 Axes>"
            ],
            "image/png": "[encoded data removed]"
          },
          "metadata": {}
        }
      ]
    },
    {
      "cell_type": "code",
      "source": [
        "def evaluate(model, data):\n",
        "    model.eval()\n",
        "    with torch.no_grad():\n",
        "        pred = model(data.x, data.edge_index, data.edge_index)[data.test_mask]\n",
        "        mse_loss = criterion(pred, data.y[data.test_mask])\n",
        "    return float(mse_loss)\n",
        "\n",
        "test_mse = evaluate(model, data)\n",
        "print(f'Test MSE: {test_mse:.4f}')"
      ],
      "metadata": {
        "colab": {
          "base_uri": "https://localhost:8080/"
        },
        "id": "IH6BXvdqkT-7",
        "outputId": "8e0cd88c-2571-4a4e-e7b6-897411b0032c"
      },
      "execution_count": 8,
      "outputs": [
        {
          "output_type": "stream",
          "name": "stdout",
          "text": [
            "Test MSE: 0.0714\n"
          ]
        }
      ]
    },
    {
      "cell_type": "code",
      "source": [
        "data.edge_index, data.test_mask, data.y"
      ],
      "metadata": {
        "colab": {
          "base_uri": "https://localhost:8080/"
        },
        "id": "FDKE4pJekT9K",
        "outputId": "b39774b9-830c-408c-e75f-1397af7b92cf"
      },
      "execution_count": 9,
      "outputs": [
        {
          "output_type": "execute_result",
          "data": {
            "text/plain": [
              "(tensor([[   0,    0,    0,  ...,  609,  609,  609],\n",
              "         [ 610,  611,  612,  ..., 3731, 2002, 3483]]),\n",
              " tensor([False, False, False,  ..., False, False,  True]),\n",
              " tensor([0.7778, 0.7778, 0.7778,  ..., 1.0000, 1.0000, 0.5556]))"
            ]
          },
          "metadata": {},
          "execution_count": 9
        }
      ]
    },
    {
      "cell_type": "code",
      "source": [
        "model(data.x, data.edge_index, data.edge_index[:, -1].unsqueeze(dim=1)), data.y[-1]"
      ],
      "metadata": {
        "id": "b2hVyPEC_aZv",
        "colab": {
          "base_uri": "https://localhost:8080/"
        },
        "outputId": "225ffd25-73e9-4a72-848b-90c5a17a219b"
      },
      "execution_count": 10,
      "outputs": [
        {
          "output_type": "execute_result",
          "data": {
            "text/plain": [
              "(tensor([0.4677], grad_fn=<SumBackward1>), tensor(0.5556))"
            ]
          },
          "metadata": {},
          "execution_count": 10
        }
      ]
    },
    {
      "cell_type": "markdown",
      "source": [
        "7. Самостоятельное задание\n",
        "\n",
        "* Проведите гиперпараметризацию модели, выбрав оптимальное количество\n",
        "слоёв и размерность скрытых признаков.\n",
        "\n",
        "* Добавьте дополнительные признаки пользователей и объектов (пол,\n",
        "возраст, жанр фильма и др.) и посмотрите влияние на точность рекомендаций."
      ],
      "metadata": {
        "id": "OwgCDJPo8IzL"
      }
    },
    {
      "cell_type": "code",
      "source": [
        "layer_options = [1, 2, 3]\n",
        "hidden_options = [8, 16, 32, 64]\n",
        "results = []\n",
        "\n",
        "for num_layers in layer_options:\n",
        "    for hidden_channels in hidden_options:\n",
        "\n",
        "        model = RecommenderModel(n_nodes, hidden_channels, num_layers)\n",
        "        optimizer = torch.optim.Adam(model.parameters(), lr=0.01)\n",
        "        criterion = torch.nn.MSELoss()\n",
        "\n",
        "        for epoch in tqdm(range(40), leave=False):\n",
        "            train()\n",
        "        test_mse = round(evaluate(model, data), 4)\n",
        "        print(f'num_layers: {num_layers} | hidden_channels: {hidden_channels} | test_mse: {test_mse}')\n",
        "\n",
        "        results.append((num_layers, hidden_channels, test_mse))\n",
        "\n",
        "best_params = sorted(results, key=lambda x: x[2])[0]\n",
        "print(f'\\nЛучшие параметры: {best_params}')"
      ],
      "metadata": {
        "id": "iaIBnXQA6qs5",
        "colab": {
          "base_uri": "https://localhost:8080/"
        },
        "outputId": "53887882-7cf6-43e7-ca4f-14dd6307c36e"
      },
      "execution_count": 11,
      "outputs": [
        {
          "output_type": "stream",
          "name": "stderr",
          "text": []
        },
        {
          "output_type": "stream",
          "name": "stdout",
          "text": [
            "num_layers: 1 | hidden_channels: 8 | test_mse: 0.0887\n"
          ]
        },
        {
          "output_type": "stream",
          "name": "stderr",
          "text": []
        },
        {
          "output_type": "stream",
          "name": "stdout",
          "text": [
            "num_layers: 1 | hidden_channels: 16 | test_mse: 0.0884\n"
          ]
        },
        {
          "output_type": "stream",
          "name": "stderr",
          "text": []
        },
        {
          "output_type": "stream",
          "name": "stdout",
          "text": [
            "num_layers: 1 | hidden_channels: 32 | test_mse: 0.0884\n"
          ]
        },
        {
          "output_type": "stream",
          "name": "stderr",
          "text": []
        },
        {
          "output_type": "stream",
          "name": "stdout",
          "text": [
            "num_layers: 1 | hidden_channels: 64 | test_mse: 0.0887\n"
          ]
        },
        {
          "output_type": "stream",
          "name": "stderr",
          "text": []
        },
        {
          "output_type": "stream",
          "name": "stdout",
          "text": [
            "num_layers: 2 | hidden_channels: 8 | test_mse: 0.091\n"
          ]
        },
        {
          "output_type": "stream",
          "name": "stderr",
          "text": []
        },
        {
          "output_type": "stream",
          "name": "stdout",
          "text": [
            "num_layers: 2 | hidden_channels: 16 | test_mse: 0.0923\n"
          ]
        },
        {
          "output_type": "stream",
          "name": "stderr",
          "text": []
        },
        {
          "output_type": "stream",
          "name": "stdout",
          "text": [
            "num_layers: 2 | hidden_channels: 32 | test_mse: 0.0915\n"
          ]
        },
        {
          "output_type": "stream",
          "name": "stderr",
          "text": []
        },
        {
          "output_type": "stream",
          "name": "stdout",
          "text": [
            "num_layers: 2 | hidden_channels: 64 | test_mse: 0.0916\n"
          ]
        },
        {
          "output_type": "stream",
          "name": "stderr",
          "text": []
        },
        {
          "output_type": "stream",
          "name": "stdout",
          "text": [
            "num_layers: 3 | hidden_channels: 8 | test_mse: 0.0918\n"
          ]
        },
        {
          "output_type": "stream",
          "name": "stderr",
          "text": []
        },
        {
          "output_type": "stream",
          "name": "stdout",
          "text": [
            "num_layers: 3 | hidden_channels: 16 | test_mse: 0.0917\n"
          ]
        },
        {
          "output_type": "stream",
          "name": "stderr",
          "text": []
        },
        {
          "output_type": "stream",
          "name": "stdout",
          "text": [
            "num_layers: 3 | hidden_channels: 32 | test_mse: 0.095\n"
          ]
        },
        {
          "output_type": "stream",
          "name": "stderr",
          "text": []
        },
        {
          "output_type": "stream",
          "name": "stdout",
          "text": [
            "num_layers: 3 | hidden_channels: 64 | test_mse: 0.0992\n",
            "\n",
            "Лучшие параметры: (1, 16, 0.0884)\n"
          ]
        }
      ]
    },
    {
      "cell_type": "markdown",
      "source": [
        "# 2 часть – Применение легковесной графовой нейронной сети LightGCN (1 балл)"
      ],
      "metadata": {
        "id": "tecKzUOhnF8R"
      }
    },
    {
      "cell_type": "code",
      "source": [
        "import pandas as pd\n",
        "import torch\n",
        "from sklearn.model_selection import train_test_split\n",
        "from torch_geometric.nn.models import LightGCN\n",
        "import random\n",
        "from torch_geometric.data import Data"
      ],
      "metadata": {
        "id": "Nhh4SrP_nGJU"
      },
      "execution_count": 1,
      "outputs": []
    },
    {
      "cell_type": "code",
      "source": [
        "data = pd.read_csv('fashion_products.csv')\n",
        "\n",
        "users = data['User ID'].unique()\n",
        "items = data['Product ID'].unique()\n",
        "\n",
        "n_nodes = len(users) + len(items)\n",
        "\n",
        "user_map = {u: i for i, u in enumerate(users)}\n",
        "item_map = {m: len(users) + i for i, m in enumerate(items)}"
      ],
      "metadata": {
        "id": "OQHXc0XO3S2y"
      },
      "execution_count": 2,
      "outputs": []
    },
    {
      "cell_type": "code",
      "source": [
        "edges = data[['User ID', 'Product ID']].values\n",
        "edge_index = torch.tensor([\n",
        "    [user_map[u] for u, m in edges],\n",
        "    [item_map[m] for u, m in edges]\n",
        "], dtype=torch.long)\n",
        "edge_set = set(zip(edge_index[0].tolist(), edge_index[1].tolist()))\n",
        "\n",
        "edges_neg = []\n",
        "while len(edges_neg) < len(edges):\n",
        "    u = random.randint(0, len(user_map) - 1)\n",
        "    v = random.randint(len(user_map), len(user_map) + len(item_map) - 1)\n",
        "    if (u, v) not in edge_set:\n",
        "        edges_neg.append((u, v))\n",
        "edge_index_neg = torch.tensor([\n",
        "    [u for u, v in edges_neg],\n",
        "    [v for u, v in edges_neg]\n",
        "], dtype=torch.long)\n",
        "\n",
        "edge_index = torch.concat((edge_index, edge_index_neg), dim=1)\n",
        "edge_index"
      ],
      "metadata": {
        "colab": {
          "base_uri": "https://localhost:8080/"
        },
        "id": "tq8BpgjV3SHp",
        "outputId": "d9a86876-979c-433d-de5b-d06758fc592e"
      },
      "execution_count": 3,
      "outputs": [
        {
          "output_type": "execute_result",
          "data": {
            "text/plain": [
              "tensor([[  0,   1,   2,  ...,  92,  28,  58],\n",
              "        [100, 101, 102,  ..., 739, 960, 304]])"
            ]
          },
          "metadata": {},
          "execution_count": 3
        }
      ]
    },
    {
      "cell_type": "code",
      "source": [
        "edge_label = torch.cat([\n",
        "    torch.ones(len(edges)),\n",
        "    torch.zeros(len(edges_neg))\n",
        "])\n",
        "\n",
        "edge_indices = torch.arange(edge_index.shape[1])\n",
        "train_idx, test_idx = train_test_split(edge_indices, test_size=0.2, random_state=42)\n",
        "\n",
        "train_mask = torch.zeros(edge_index.shape[1], dtype=torch.bool)\n",
        "test_mask = torch.zeros(edge_index.shape[1], dtype=torch.bool)\n",
        "train_mask[train_idx] = True\n",
        "test_mask[test_idx] = True\n",
        "\n",
        "data = Data(edge_index=edge_index, y=edge_label,\n",
        "            train_mask=train_mask, test_mask=test_mask)\n",
        "data"
      ],
      "metadata": {
        "colab": {
          "base_uri": "https://localhost:8080/"
        },
        "id": "e0cQH5UWAbzL",
        "outputId": "87ece18b-6cdf-438e-a249-9664aa562f4a"
      },
      "execution_count": 4,
      "outputs": [
        {
          "output_type": "execute_result",
          "data": {
            "text/plain": [
              "Data(edge_index=[2, 2000], y=[2000], train_mask=[2000], test_mask=[2000])"
            ]
          },
          "metadata": {},
          "execution_count": 4
        }
      ]
    },
    {
      "cell_type": "code",
      "source": [
        "layer_options = [1, 2, 3]\n",
        "hidden_options = [8, 16, 32, 64]\n",
        "results = []\n",
        "\n",
        "for num_layers in layer_options:\n",
        "    for hidden_channels in hidden_options:\n",
        "\n",
        "        model = LightGCN(n_nodes, hidden_channels, num_layers)\n",
        "        optimizer = torch.optim.Adam(model.parameters(), lr=0.01)\n",
        "\n",
        "        for epoch in range(50):\n",
        "            model.train()\n",
        "            optimizer.zero_grad()\n",
        "            pred = model(data.edge_index, edge_label_index=data.edge_index[:, data.train_mask])\n",
        "            loss = model.link_pred_loss(pred, data.y[data.train_mask])\n",
        "            loss.backward()\n",
        "            optimizer.step()\n",
        "\n",
        "        model.eval()\n",
        "        with torch.no_grad():\n",
        "            pred = model(data.edge_index, edge_label_index=data.edge_index[:, data.test_mask])\n",
        "            loss = model.link_pred_loss(pred, data.y[data.test_mask]).item()\n",
        "        print(f'num_layers: {num_layers} | hidden_channels: {hidden_channels} | BCEWithLogitsLoss.: {loss}')\n",
        "\n",
        "        results.append((num_layers, hidden_channels, loss))\n",
        "\n",
        "best_params = sorted(results, key=lambda x: x[2])[0]\n",
        "print(f'\\nЛучшие параметры: {best_params}')"
      ],
      "metadata": {
        "colab": {
          "base_uri": "https://localhost:8080/"
        },
        "id": "GejpWrl9AbxG",
        "outputId": "814e9db2-a23f-47a8-afc1-f40e8a238a21"
      },
      "execution_count": 5,
      "outputs": [
        {
          "output_type": "stream",
          "name": "stdout",
          "text": [
            "num_layers: 1 | hidden_channels: 8 | BCEWithLogitsLoss.: 0.7026294469833374\n",
            "num_layers: 1 | hidden_channels: 16 | BCEWithLogitsLoss.: 0.7023831009864807\n",
            "num_layers: 1 | hidden_channels: 32 | BCEWithLogitsLoss.: 0.6944474577903748\n",
            "num_layers: 1 | hidden_channels: 64 | BCEWithLogitsLoss.: 0.7152628898620605\n",
            "num_layers: 2 | hidden_channels: 8 | BCEWithLogitsLoss.: 0.6941636800765991\n",
            "num_layers: 2 | hidden_channels: 16 | BCEWithLogitsLoss.: 0.6931037306785583\n",
            "num_layers: 2 | hidden_channels: 32 | BCEWithLogitsLoss.: 0.697109043598175\n",
            "num_layers: 2 | hidden_channels: 64 | BCEWithLogitsLoss.: 0.6941418647766113\n",
            "num_layers: 3 | hidden_channels: 8 | BCEWithLogitsLoss.: 0.6911461353302002\n",
            "num_layers: 3 | hidden_channels: 16 | BCEWithLogitsLoss.: 0.6964939832687378\n",
            "num_layers: 3 | hidden_channels: 32 | BCEWithLogitsLoss.: 0.6946470737457275\n",
            "num_layers: 3 | hidden_channels: 64 | BCEWithLogitsLoss.: 0.6973477005958557\n",
            "\n",
            "Лучшие параметры: (3, 8, 0.6911461353302002)\n"
          ]
        }
      ]
    },
    {
      "cell_type": "code",
      "source": [
        "data.test_mask[10:30], data.test_mask[30]"
      ],
      "metadata": {
        "colab": {
          "base_uri": "https://localhost:8080/"
        },
        "id": "GWQFXMjuAbvI",
        "outputId": "5bcccba7-6e3e-4a3b-8537-265fb8dc8b04"
      },
      "execution_count": 6,
      "outputs": [
        {
          "output_type": "execute_result",
          "data": {
            "text/plain": [
              "(tensor([False, False, False, False, False, False, False, False, False, False,\n",
              "         False, False, False,  True, False, False, False, False, False,  True]),\n",
              " tensor(True))"
            ]
          },
          "metadata": {},
          "execution_count": 6
        }
      ]
    },
    {
      "cell_type": "code",
      "source": [
        "model(data.edge_index, data.edge_index[:, 0].unsqueeze(dim=1)), data.y[0]"
      ],
      "metadata": {
        "colab": {
          "base_uri": "https://localhost:8080/"
        },
        "id": "8zqED4iDE4D5",
        "outputId": "4d111ca3-ccfb-4813-8f9f-94c4b06a4bfc"
      },
      "execution_count": 7,
      "outputs": [
        {
          "output_type": "execute_result",
          "data": {
            "text/plain": [
              "(tensor([0.8322], grad_fn=<SumBackward1>), tensor(1.))"
            ]
          },
          "metadata": {},
          "execution_count": 7
        }
      ]
    },
    {
      "cell_type": "code",
      "source": [
        "model(data.edge_index, data.edge_index[:, 30].unsqueeze(dim=1)), data.y[30]"
      ],
      "metadata": {
        "colab": {
          "base_uri": "https://localhost:8080/"
        },
        "id": "xjmfLzbe3Rv_",
        "outputId": "ae4ed190-b155-4247-e1af-773a4b321521"
      },
      "execution_count": 8,
      "outputs": [
        {
          "output_type": "execute_result",
          "data": {
            "text/plain": [
              "(tensor([0.1626], grad_fn=<SumBackward1>), tensor(1.))"
            ]
          },
          "metadata": {},
          "execution_count": 8
        }
      ]
    },
    {
      "cell_type": "code",
      "source": [
        "torch.sigmoid(model(data.edge_index, data.edge_index[:, 30].unsqueeze(dim=1)))"
      ],
      "metadata": {
        "colab": {
          "base_uri": "https://localhost:8080/"
        },
        "id": "rJYns3wrE8K-",
        "outputId": "66676c9f-2110-400b-f057-6bd3a52ce2cc"
      },
      "execution_count": 9,
      "outputs": [
        {
          "output_type": "execute_result",
          "data": {
            "text/plain": [
              "tensor([0.5405], grad_fn=<SigmoidBackward0>)"
            ]
          },
          "metadata": {},
          "execution_count": 9
        }
      ]
    },
    {
      "cell_type": "markdown",
      "source": [
        "# 3 часть – Применение графовой нейронной сети IRGNN для реализации рекомендательной системы (2 балла)"
      ],
      "metadata": {
        "id": "Rbxd7Qi1nGVA"
      }
    },
    {
      "cell_type": "code",
      "source": [
        "import pandas as pd\n",
        "from sklearn.model_selection import train_test_split\n",
        "from collections import Counter\n",
        "from itertools import permutations\n",
        "import torch\n",
        "import torch.nn.functional as F\n",
        "from torch_geometric.data import Data\n",
        "from torch_geometric.nn import GraphConv\n",
        "import math"
      ],
      "metadata": {
        "id": "IJfDtjbpnGtf"
      },
      "execution_count": 1,
      "outputs": []
    },
    {
      "cell_type": "code",
      "source": [
        "df = pd.read_csv('user_artists.dat', sep='\\t', header=0)\n",
        "train_df, test_df = train_test_split(df, test_size=0.2, random_state=42)\n",
        "df.head()"
      ],
      "metadata": {
        "colab": {
          "base_uri": "https://localhost:8080/",
          "height": 204
        },
        "id": "3v-n8A4HMC0_",
        "outputId": "56dafb9a-894e-4dfa-925c-64f641fc9963"
      },
      "execution_count": 2,
      "outputs": [
        {
          "output_type": "execute_result",
          "data": {
            "text/plain": [
              "   userID  artistID  weight\n",
              "0       2        51   13883\n",
              "1       2        52   11690\n",
              "2       2        53   11351\n",
              "3       2        54   10300\n",
              "4       2        55    8983"
            ],
            "text/html": [
              "\n",
              "  <div id=\"df-005dad4b-aeae-4db9-b629-36eee2e8a14d\" class=\"colab-df-container\">\n",
              "    <div>\n",
              "<style scoped>\n",
              "    .dataframe tbody tr th:only-of-type {\n",
              "        vertical-align: middle;\n",
              "    }\n",
              "\n",
              "    .dataframe tbody tr th {\n",
              "        vertical-align: top;\n",
              "    }\n",
              "\n",
              "    .dataframe thead th {\n",
              "        text-align: right;\n",
              "    }\n",
              "</style>\n",
              "<table border=\"1\" class=\"dataframe\">\n",
              "  <thead>\n",
              "    <tr style=\"text-align: right;\">\n",
              "      <th></th>\n",
              "      <th>userID</th>\n",
              "      <th>artistID</th>\n",
              "      <th>weight</th>\n",
              "    </tr>\n",
              "  </thead>\n",
              "  <tbody>\n",
              "    <tr>\n",
              "      <th>0</th>\n",
              "      <td>2</td>\n",
              "      <td>51</td>\n",
              "      <td>13883</td>\n",
              "    </tr>\n",
              "    <tr>\n",
              "      <th>1</th>\n",
              "      <td>2</td>\n",
              "      <td>52</td>\n",
              "      <td>11690</td>\n",
              "    </tr>\n",
              "    <tr>\n",
              "      <th>2</th>\n",
              "      <td>2</td>\n",
              "      <td>53</td>\n",
              "      <td>11351</td>\n",
              "    </tr>\n",
              "    <tr>\n",
              "      <th>3</th>\n",
              "      <td>2</td>\n",
              "      <td>54</td>\n",
              "      <td>10300</td>\n",
              "    </tr>\n",
              "    <tr>\n",
              "      <th>4</th>\n",
              "      <td>2</td>\n",
              "      <td>55</td>\n",
              "      <td>8983</td>\n",
              "    </tr>\n",
              "  </tbody>\n",
              "</table>\n",
              "</div>\n",
              "    <div class=\"colab-df-buttons\">\n",
              "\n",
              "  <div class=\"colab-df-container\">\n",
              "    <button class=\"colab-df-convert\" onclick=\"convertToInteractive('df-005dad4b-aeae-4db9-b629-36eee2e8a14d')\"\n",
              "            title=\"Convert this dataframe to an interactive table.\"\n",
              "            style=\"display:none;\">\n",
              "\n",
              "  <svg xmlns=\"http://www.w3.org/2000/svg\" height=\"24px\" viewBox=\"0 -960 960 960\">\n",
              "    <path d=\"M120-120v-720h720v720H120Zm60-500h600v-160H180v160Zm220 220h160v-160H400v160Zm0 220h160v-160H400v160ZM180-400h160v-160H180v160Zm440 0h160v-160H620v160ZM180-180h160v-160H180v160Zm440 0h160v-160H620v160Z\"/>\n",
              "  </svg>\n",
              "    </button>\n",
              "\n",
              "  <style>\n",
              "    .colab-df-container {\n",
              "      display:flex;\n",
              "      gap: 12px;\n",
              "    }\n",
              "\n",
              "    .colab-df-convert {\n",
              "      background-color: #E8F0FE;\n",
              "      border: none;\n",
              "      border-radius: 50%;\n",
              "      cursor: pointer;\n",
              "      display: none;\n",
              "      fill: #1967D2;\n",
              "      height: 32px;\n",
              "      padding: 0 0 0 0;\n",
              "      width: 32px;\n",
              "    }\n",
              "\n",
              "    .colab-df-convert:hover {\n",
              "      background-color: #E2EBFA;\n",
              "      box-shadow: 0px 1px 2px rgba(60, 64, 67, 0.3), 0px 1px 3px 1px rgba(60, 64, 67, 0.15);\n",
              "      fill: #174EA6;\n",
              "    }\n",
              "\n",
              "    .colab-df-buttons div {\n",
              "      margin-bottom: 4px;\n",
              "    }\n",
              "\n",
              "    [theme=dark] .colab-df-convert {\n",
              "      background-color: #3B4455;\n",
              "      fill: #D2E3FC;\n",
              "    }\n",
              "\n",
              "    [theme=dark] .colab-df-convert:hover {\n",
              "      background-color: #434B5C;\n",
              "      box-shadow: 0px 1px 3px 1px rgba(0, 0, 0, 0.15);\n",
              "      filter: drop-shadow(0px 1px 2px rgba(0, 0, 0, 0.3));\n",
              "      fill: #FFFFFF;\n",
              "    }\n",
              "  </style>\n",
              "\n",
              "    <script>\n",
              "      const buttonEl =\n",
              "        document.querySelector('#df-005dad4b-aeae-4db9-b629-36eee2e8a14d button.colab-df-convert');\n",
              "      buttonEl.style.display =\n",
              "        google.colab.kernel.accessAllowed ? 'block' : 'none';\n",
              "\n",
              "      async function convertToInteractive(key) {\n",
              "        const element = document.querySelector('#df-005dad4b-aeae-4db9-b629-36eee2e8a14d');\n",
              "        const dataTable =\n",
              "          await google.colab.kernel.invokeFunction('convertToInteractive',\n",
              "                                                    [key], {});\n",
              "        if (!dataTable) return;\n",
              "\n",
              "        const docLinkHtml = 'Like what you see? Visit the ' +\n",
              "          '<a target=\"_blank\" href=https://colab.research.google.com/notebooks/data_table.ipynb>data table notebook</a>'\n",
              "          + ' to learn more about interactive tables.';\n",
              "        element.innerHTML = '';\n",
              "        dataTable['output_type'] = 'display_data';\n",
              "        await google.colab.output.renderOutput(dataTable, element);\n",
              "        const docLink = document.createElement('div');\n",
              "        docLink.innerHTML = docLinkHtml;\n",
              "        element.appendChild(docLink);\n",
              "      }\n",
              "    </script>\n",
              "  </div>\n",
              "\n",
              "\n",
              "    <div id=\"df-0dcc2cfb-96a7-4fd1-9872-acb9b414c2ea\">\n",
              "      <button class=\"colab-df-quickchart\" onclick=\"quickchart('df-0dcc2cfb-96a7-4fd1-9872-acb9b414c2ea')\"\n",
              "                title=\"Suggest charts\"\n",
              "                style=\"display:none;\">\n",
              "\n",
              "<svg xmlns=\"http://www.w3.org/2000/svg\" height=\"24px\"viewBox=\"0 0 24 24\"\n",
              "     width=\"24px\">\n",
              "    <g>\n",
              "        <path d=\"M19 3H5c-1.1 0-2 .9-2 2v14c0 1.1.9 2 2 2h14c1.1 0 2-.9 2-2V5c0-1.1-.9-2-2-2zM9 17H7v-7h2v7zm4 0h-2V7h2v10zm4 0h-2v-4h2v4z\"/>\n",
              "    </g>\n",
              "</svg>\n",
              "      </button>\n",
              "\n",
              "<style>\n",
              "  .colab-df-quickchart {\n",
              "      --bg-color: #E8F0FE;\n",
              "      --fill-color: #1967D2;\n",
              "      --hover-bg-color: #E2EBFA;\n",
              "      --hover-fill-color: #174EA6;\n",
              "      --disabled-fill-color: #AAA;\n",
              "      --disabled-bg-color: #DDD;\n",
              "  }\n",
              "\n",
              "  [theme=dark] .colab-df-quickchart {\n",
              "      --bg-color: #3B4455;\n",
              "      --fill-color: #D2E3FC;\n",
              "      --hover-bg-color: #434B5C;\n",
              "      --hover-fill-color: #FFFFFF;\n",
              "      --disabled-bg-color: #3B4455;\n",
              "      --disabled-fill-color: #666;\n",
              "  }\n",
              "\n",
              "  .colab-df-quickchart {\n",
              "    background-color: var(--bg-color);\n",
              "    border: none;\n",
              "    border-radius: 50%;\n",
              "    cursor: pointer;\n",
              "    display: none;\n",
              "    fill: var(--fill-color);\n",
              "    height: 32px;\n",
              "    padding: 0;\n",
              "    width: 32px;\n",
              "  }\n",
              "\n",
              "  .colab-df-quickchart:hover {\n",
              "    background-color: var(--hover-bg-color);\n",
              "    box-shadow: 0 1px 2px rgba(60, 64, 67, 0.3), 0 1px 3px 1px rgba(60, 64, 67, 0.15);\n",
              "    fill: var(--button-hover-fill-color);\n",
              "  }\n",
              "\n",
              "  .colab-df-quickchart-complete:disabled,\n",
              "  .colab-df-quickchart-complete:disabled:hover {\n",
              "    background-color: var(--disabled-bg-color);\n",
              "    fill: var(--disabled-fill-color);\n",
              "    box-shadow: none;\n",
              "  }\n",
              "\n",
              "  .colab-df-spinner {\n",
              "    border: 2px solid var(--fill-color);\n",
              "    border-color: transparent;\n",
              "    border-bottom-color: var(--fill-color);\n",
              "    animation:\n",
              "      spin 1s steps(1) infinite;\n",
              "  }\n",
              "\n",
              "  @keyframes spin {\n",
              "    0% {\n",
              "      border-color: transparent;\n",
              "      border-bottom-color: var(--fill-color);\n",
              "      border-left-color: var(--fill-color);\n",
              "    }\n",
              "    20% {\n",
              "      border-color: transparent;\n",
              "      border-left-color: var(--fill-color);\n",
              "      border-top-color: var(--fill-color);\n",
              "    }\n",
              "    30% {\n",
              "      border-color: transparent;\n",
              "      border-left-color: var(--fill-color);\n",
              "      border-top-color: var(--fill-color);\n",
              "      border-right-color: var(--fill-color);\n",
              "    }\n",
              "    40% {\n",
              "      border-color: transparent;\n",
              "      border-right-color: var(--fill-color);\n",
              "      border-top-color: var(--fill-color);\n",
              "    }\n",
              "    60% {\n",
              "      border-color: transparent;\n",
              "      border-right-color: var(--fill-color);\n",
              "    }\n",
              "    80% {\n",
              "      border-color: transparent;\n",
              "      border-right-color: var(--fill-color);\n",
              "      border-bottom-color: var(--fill-color);\n",
              "    }\n",
              "    90% {\n",
              "      border-color: transparent;\n",
              "      border-bottom-color: var(--fill-color);\n",
              "    }\n",
              "  }\n",
              "</style>\n",
              "\n",
              "      <script>\n",
              "        async function quickchart(key) {\n",
              "          const quickchartButtonEl =\n",
              "            document.querySelector('#' + key + ' button');\n",
              "          quickchartButtonEl.disabled = true;  // To prevent multiple clicks.\n",
              "          quickchartButtonEl.classList.add('colab-df-spinner');\n",
              "          try {\n",
              "            const charts = await google.colab.kernel.invokeFunction(\n",
              "                'suggestCharts', [key], {});\n",
              "          } catch (error) {\n",
              "            console.error('Error during call to suggestCharts:', error);\n",
              "          }\n",
              "          quickchartButtonEl.classList.remove('colab-df-spinner');\n",
              "          quickchartButtonEl.classList.add('colab-df-quickchart-complete');\n",
              "        }\n",
              "        (() => {\n",
              "          let quickchartButtonEl =\n",
              "            document.querySelector('#df-0dcc2cfb-96a7-4fd1-9872-acb9b414c2ea button');\n",
              "          quickchartButtonEl.style.display =\n",
              "            google.colab.kernel.accessAllowed ? 'block' : 'none';\n",
              "        })();\n",
              "      </script>\n",
              "    </div>\n",
              "    </div>\n",
              "  </div>\n"
            ],
            "application/vnd.google.colaboratory.intrinsic+json": {
              "type": "dataframe",
              "variable_name": "df",
              "summary": "{\n  \"name\": \"df\",\n  \"rows\": 92834,\n  \"fields\": [\n    {\n      \"column\": \"userID\",\n      \"properties\": {\n        \"dtype\": \"number\",\n        \"std\": 610,\n        \"min\": 2,\n        \"max\": 2100,\n        \"num_unique_values\": 1892,\n        \"samples\": [\n          971,\n          658,\n          1629\n        ],\n        \"semantic_type\": \"\",\n        \"description\": \"\"\n      }\n    },\n    {\n      \"column\": \"artistID\",\n      \"properties\": {\n        \"dtype\": \"number\",\n        \"std\": 4383,\n        \"min\": 1,\n        \"max\": 18745,\n        \"num_unique_values\": 17632,\n        \"samples\": [\n          6248,\n          5747,\n          11384\n        ],\n        \"semantic_type\": \"\",\n        \"description\": \"\"\n      }\n    },\n    {\n      \"column\": \"weight\",\n      \"properties\": {\n        \"dtype\": \"number\",\n        \"std\": 3751,\n        \"min\": 1,\n        \"max\": 352698,\n        \"num_unique_values\": 5436,\n        \"samples\": [\n          3864,\n          1758,\n          1382\n        ],\n        \"semantic_type\": \"\",\n        \"description\": \"\"\n      }\n    }\n  ]\n}"
            }
          },
          "metadata": {},
          "execution_count": 2
        }
      ]
    },
    {
      "cell_type": "code",
      "source": [
        "unique_items = df['artistID'].unique()\n",
        "item2idx = {item: idx for idx, item in enumerate(unique_items)}\n",
        "num_items = len(unique_items)\n",
        "\n",
        "cooc = Counter()\n",
        "for _, group in train_df.groupby('userID'):\n",
        "    items = list(zip(group['artistID'], group['weight']))\n",
        "    for (i, w_i), (j, w_j) in permutations(items, 2):\n",
        "        if i != j:\n",
        "            weight = math.log1p(min(w_i, w_j))\n",
        "            cooc[(item2idx[i], item2idx[j])] += weight\n",
        "\n",
        "edge_index = torch.tensor(list(cooc.keys()), dtype=torch.long).t()\n",
        "edge_weight = torch.tensor(list(cooc.values()), dtype=torch.float)\n",
        "edge_weight = (edge_weight - edge_weight.min()) / (edge_weight.max() - edge_weight.min())\n",
        "\n",
        "data = Data(num_nodes=num_items,\n",
        "            edge_index=edge_index,\n",
        "            edge_attr=edge_weight)\n",
        "data"
      ],
      "metadata": {
        "colab": {
          "base_uri": "https://localhost:8080/"
        },
        "id": "1gaq7x7zMLCW",
        "outputId": "43d7dd7a-e584-476e-adbd-34f26bc0e207"
      },
      "execution_count": 3,
      "outputs": [
        {
          "output_type": "execute_result",
          "data": {
            "text/plain": [
              "Data(edge_index=[2, 1827890], edge_attr=[1827890], num_nodes=17632)"
            ]
          },
          "metadata": {},
          "execution_count": 3
        }
      ]
    },
    {
      "cell_type": "code",
      "source": [
        "input_dim, hidden_dim, output_dim = 16, 32, 8\n",
        "data.x = torch.randn((num_items, input_dim))"
      ],
      "metadata": {
        "id": "I4XFjLH5MCzK"
      },
      "execution_count": 4,
      "outputs": []
    },
    {
      "cell_type": "code",
      "source": [
        "class IRGNN(torch.nn.Module):\n",
        "    def __init__(self, in_dim, hid_dim, out_dim):\n",
        "        super().__init__()\n",
        "        self.conv1 = GraphConv(in_dim, hid_dim)\n",
        "        self.conv2 = GraphConv(hid_dim, out_dim)\n",
        "\n",
        "    def forward(self, x, edge_index, edge_weight):\n",
        "        x = F.relu(self.conv1(x, edge_index, edge_weight))\n",
        "        x = self.conv2(x, edge_index, edge_weight)\n",
        "        return x"
      ],
      "metadata": {
        "id": "Hn1dZhtQMCxV"
      },
      "execution_count": 5,
      "outputs": []
    },
    {
      "cell_type": "code",
      "source": [
        "model = IRGNN(input_dim, hidden_dim, output_dim)\n",
        "optimizer = torch.optim.Adam(model.parameters(), lr=0.01)"
      ],
      "metadata": {
        "id": "DKKafP8OMCvg"
      },
      "execution_count": 6,
      "outputs": []
    },
    {
      "cell_type": "code",
      "source": [
        "for epoch in range(50+1):\n",
        "    model.train()\n",
        "    optimizer.zero_grad()\n",
        "    embeddings = model(data.x, data.edge_index, data.edge_attr)\n",
        "    src, dst = data.edge_index\n",
        "    pred = (embeddings[src] * embeddings[dst]).sum(dim=1)\n",
        "    loss = F.cross_entropy(pred, data.edge_attr)\n",
        "    loss.backward()\n",
        "    optimizer.step()\n",
        "    if epoch % 10 == 0:\n",
        "        print(f'Epoch {epoch} — Loss: {loss.item():.4f}')"
      ],
      "metadata": {
        "colab": {
          "base_uri": "https://localhost:8080/"
        },
        "id": "zaTwzPIZMCts",
        "outputId": "7cf47854-e05d-4406-cc51-11d0ffe3bd5d"
      },
      "execution_count": 7,
      "outputs": [
        {
          "output_type": "stream",
          "name": "stdout",
          "text": [
            "Epoch 0 — Loss: 8.9371\n",
            "Epoch 10 — Loss: 0.3532\n",
            "Epoch 20 — Loss: 0.1152\n",
            "Epoch 30 — Loss: 0.1100\n",
            "Epoch 40 — Loss: 0.1098\n",
            "Epoch 50 — Loss: 0.1094\n"
          ]
        }
      ]
    },
    {
      "cell_type": "code",
      "source": [
        "@torch.no_grad()\n",
        "def recommend(user_id, top_k=10):\n",
        "    listened = train_df[train_df['userID'] == user_id]['artistID'].tolist()\n",
        "    idxs = [item2idx[a] for a in listened if a in item2idx]\n",
        "    if not idxs:\n",
        "        return []\n",
        "    user_emb = embeddings[idxs].mean(dim=0)\n",
        "    scores = embeddings @ user_emb\n",
        "    scores[idxs] = -1e9\n",
        "    top_idxs = scores.topk(top_k).indices.cpu().tolist()\n",
        "    idx2item = {v: k for k, v in item2idx.items()}\n",
        "    return [int(idx2item[i]) for i in top_idxs]"
      ],
      "metadata": {
        "id": "LpAhc3UPMCr6"
      },
      "execution_count": 8,
      "outputs": []
    },
    {
      "cell_type": "code",
      "source": [
        "uid = int(test_df.iloc[0]['userID'])\n",
        "print(f'Рекомендации для пользователя {uid}: {recommend(uid, top_k=10)}')"
      ],
      "metadata": {
        "colab": {
          "base_uri": "https://localhost:8080/"
        },
        "id": "7tulQa0yMCqC",
        "outputId": "70cf6479-4bcd-4db2-b782-783127f1d15b"
      },
      "execution_count": 9,
      "outputs": [
        {
          "output_type": "stream",
          "name": "stdout",
          "text": [
            "Рекомендации для пользователя 1761: [9356, 10633, 17587, 2710, 10642, 6379, 15148, 14346, 7509, 2075]\n"
          ]
        }
      ]
    },
    {
      "cell_type": "code",
      "source": [],
      "metadata": {
        "id": "BkU0-dWxMCoC"
      },
      "execution_count": null,
      "outputs": []
    }
  ]
}